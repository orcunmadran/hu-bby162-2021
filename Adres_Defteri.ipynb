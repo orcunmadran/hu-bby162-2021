{
  "nbformat": 4,
  "nbformat_minor": 0,
  "metadata": {
    "colab": {
      "name": "Adres Defteri.ipynb",
      "provenance": [],
      "collapsed_sections": [],
      "authorship_tag": "ABX9TyPC3dbOUS5Ty/b4fOELLol9",
      "include_colab_link": true
    },
    "kernelspec": {
      "name": "python3",
      "display_name": "Python 3"
    }
  },
  "cells": [
    {
      "cell_type": "markdown",
      "metadata": {
        "id": "view-in-github",
        "colab_type": "text"
      },
      "source": [
        "<a href=\"https://colab.research.google.com/github/orcunmadran/hu-bby162-2021/blob/main/Adres_Defteri.ipynb\" target=\"_parent\"><img src=\"https://colab.research.google.com/assets/colab-badge.svg\" alt=\"Open In Colab\"/></a>"
      ]
    },
    {
      "cell_type": "code",
      "metadata": {
        "id": "EsMuhSQnyGzj"
      },
      "source": [
        "#BookMark System\n",
        "\n",
        "adresler = {}\n",
        "\n",
        "print(\"--- Adres Defterine Hoş Geldiniz ---\")\n",
        "menu()\n",
        "\n",
        "#Adres ekleme foksiyonu\n",
        "def adres_ekle():\n",
        "  webAd = input(\"Web sitesinin adını giriniz: \")\n",
        "  webURL = input(\"Web sitesinin adresini giriniz: \")\n",
        "  adresler[webAd] = webURL\n",
        "  print(adresler)\n",
        "  menu()\n",
        "\n",
        "#Adres arama foksiyonu\n",
        "def adres_ara():\n",
        "  webAra = input(\"Adresini görmek istediğiniz site: \")\n",
        "  if webAra in adresler.keys():\n",
        "    print(webAra + \" :\" +adresler[webAra])\n",
        "  else:\n",
        "    print(\"Bu adres yok!\")\n",
        "  menu()\n",
        "\n",
        "def menu():\n",
        "  print(\"1 - Adres ekle.\")\n",
        "  print(\"2 - Adres ara.\")\n",
        "  secilen = input(\"Hangi işlemi yapmak istiyorsunuz(1/2): \")\n",
        "  if secilen == \"1\":\n",
        "    adres_ekle()\n",
        "  elif secilen == \"2\":\n",
        "    adres_ara()\n",
        "  else:\n",
        "    print(\"Defter kapandı..!\")"
      ],
      "execution_count": null,
      "outputs": []
    }
  ]
}